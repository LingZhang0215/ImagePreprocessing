{
 "cells": [
  {
   "cell_type": "markdown",
   "id": "d86b6de6",
   "metadata": {},
   "source": [
    "# Local maximum and minimum method"
   ]
  },
  {
   "cell_type": "markdown",
   "id": "cce4bffe",
   "metadata": {},
   "source": [
    "## 1. Contrast Image Construction"
   ]
  },
  {
   "cell_type": "markdown",
   "id": "f814e79c",
   "metadata": {},
   "source": [
    "### I. Image contrast (Calculated based on the local image maximumm and minimum)"
   ]
  },
  {
   "cell_type": "code",
   "execution_count": 67,
   "id": "46b7cafa",
   "metadata": {},
   "outputs": [],
   "source": [
    "import numpy as np\n",
    "import cv2"
   ]
  },
  {
   "cell_type": "code",
   "execution_count": 68,
   "id": "2301688a",
   "metadata": {},
   "outputs": [],
   "source": [
    "img = cv2.imread('try2.jpg')"
   ]
  },
  {
   "cell_type": "code",
   "execution_count": 69,
   "id": "d32039cb",
   "metadata": {},
   "outputs": [
    {
     "data": {
      "text/plain": [
       "(950, 2250, 3)"
      ]
     },
     "execution_count": 69,
     "metadata": {},
     "output_type": "execute_result"
    }
   ],
   "source": [
    "img.shape"
   ]
  },
  {
   "cell_type": "code",
   "execution_count": 70,
   "id": "752cdaf6",
   "metadata": {},
   "outputs": [],
   "source": [
    "gray_img = cv2.cvtColor(img, cv2.COLOR_BGR2GRAY)"
   ]
  },
  {
   "cell_type": "code",
   "execution_count": 71,
   "id": "05ec5ac3",
   "metadata": {},
   "outputs": [
    {
     "data": {
      "text/plain": [
       "(950, 2250)"
      ]
     },
     "execution_count": 71,
     "metadata": {},
     "output_type": "execute_result"
    }
   ],
   "source": [
    "gray_img.shape"
   ]
  },
  {
   "cell_type": "markdown",
   "id": "6d21cac6",
   "metadata": {},
   "source": [
    "### sliding window 3 * 3 (No Padding)"
   ]
  },
  {
   "cell_type": "code",
   "execution_count": 72,
   "id": "3762572b",
   "metadata": {},
   "outputs": [],
   "source": [
    "contrast_img= np.zeros((gray_img.shape[0]-1, gray_img.shape[1]-1), float)"
   ]
  },
  {
   "cell_type": "code",
   "execution_count": 86,
   "id": "187278e6",
   "metadata": {},
   "outputs": [
    {
     "name": "stderr",
     "output_type": "stream",
     "text": [
      "<ipython-input-86-b5808607926c>:5: RuntimeWarning: overflow encountered in ubyte_scalars\n",
      "  contrast_img[i-1][j-1] = ((fmax-fmin)/(fmax+fmin))\n",
      "<ipython-input-86-b5808607926c>:5: RuntimeWarning: divide by zero encountered in ubyte_scalars\n",
      "  contrast_img[i-1][j-1] = ((fmax-fmin)/(fmax+fmin))\n"
     ]
    }
   ],
   "source": [
    "for i in range(1,gray_img.shape[0]-1):\n",
    "    for j in range(1,gray_img.shape[1]-1):\n",
    "        fmax = max(gray_img[i][j],gray_img[i-1][j-1],gray_img[i-1][j],gray_img[i][j-1],gray_img[i+1][j],gray_img[i][j+1],gray_img[i+1][j+1],gray_img[i-1][j+1],gray_img[i+1][j-1])\n",
    "        fmin = min(gray_img[i][j],gray_img[i-1][j-1],gray_img[i-1][j],gray_img[i][j-1],gray_img[i+1][j],gray_img[i][j+1],gray_img[i+1][j+1],gray_img[i-1][j+1],gray_img[i+1][j-1])\n",
    "        contrast_img[i-1][j-1] = ((fmax-fmin)/(fmax+fmin))\n",
    "            \n",
    "            "
   ]
  },
  {
   "cell_type": "code",
   "execution_count": 85,
   "id": "6dfeb4a8",
   "metadata": {},
   "outputs": [
    {
     "data": {
      "image/png": "[encoded data removed]",
      "text/plain": [
       "<Figure size 432x288 with 1 Axes>"
      ]
     },
     "metadata": {
      "needs_background": "light"
     },
     "output_type": "display_data"
    }
   ],
   "source": [
    "import matplotlib.pyplot as plt\n",
    "import matplotlib.image as mpimg\n",
    "imgplot = plt.imshow(contrast_img*255)\n",
    "plt.show()"
   ]
  },
  {
   "cell_type": "code",
   "execution_count": 76,
   "id": "e2b8d853",
   "metadata": {},
   "outputs": [
    {
     "data": {
      "text/plain": [
       "True"
      ]
     },
     "execution_count": 76,
     "metadata": {},
     "output_type": "execute_result"
    }
   ],
   "source": [
    "cv2.imwrite('out.jpg',contrast_img*255)"
   ]
  },
  {
   "cell_type": "code",
   "execution_count": 87,
   "id": "c226b63c",
   "metadata": {},
   "outputs": [],
   "source": [
    "final = (contrast_img*255).astype('uint8')"
   ]
  },
  {
   "cell_type": "code",
   "execution_count": 94,
   "id": "090327c6",
   "metadata": {},
   "outputs": [],
   "source": [
    "ret, result = cv2.threshold(final,0,255,cv2.THRESH_OTSU)"
   ]
  },
  {
   "cell_type": "code",
   "execution_count": 95,
   "id": "0aa862c4",
   "metadata": {},
   "outputs": [
    {
     "data": {
      "text/plain": [
       "True"
      ]
     },
     "execution_count": 95,
     "metadata": {},
     "output_type": "execute_result"
    }
   ],
   "source": [
    "cv2.imwrite('t.jpg',result)"
   ]
  },
  {
   "cell_type": "code",
   "execution_count": 96,
   "id": "1176047b",
   "metadata": {},
   "outputs": [
    {
     "data": {
      "text/plain": [
       "array([[  0,   0,   0, ...,   0,   0,   0],\n",
       "       [  0,   0,   0, ...,   0,   0,   0],\n",
       "       [  0,   0,   0, ...,   0,   0,   0],\n",
       "       ...,\n",
       "       [  0,   0,   0, ...,   0,   0,   0],\n",
       "       [  0, 255,   0, ..., 255, 255,   0],\n",
       "       [  0,   0,   0, ...,   0,   0,   0]], dtype=uint8)"
      ]
     },
     "execution_count": 96,
     "metadata": {},
     "output_type": "execute_result"
    }
   ],
   "source": [
    "result"
   ]
  },
  {
   "cell_type": "markdown",
   "id": "2b4dc933",
   "metadata": {},
   "source": [
    "### Neighbour window 5*5"
   ]
  },
  {
   "cell_type": "code",
   "execution_count": 163,
   "id": "6a8deea4",
   "metadata": {},
   "outputs": [],
   "source": [
    "#Padding with 0\n",
    "new_img = np.zeros( (result.shape[0]+4,result.shape[1]+4), int)\n",
    "        \n",
    "    \n",
    "    "
   ]
  },
  {
   "cell_type": "code",
   "execution_count": 164,
   "id": "8d0cb01b",
   "metadata": {},
   "outputs": [
    {
     "data": {
      "text/plain": [
       "(951, 2251)"
      ]
     },
     "execution_count": 164,
     "metadata": {},
     "output_type": "execute_result"
    }
   ],
   "source": [
    "new_img.shape"
   ]
  },
  {
   "cell_type": "code",
   "execution_count": 165,
   "id": "f24d966c",
   "metadata": {},
   "outputs": [
    {
     "data": {
      "text/plain": [
       "(949, 2249)"
      ]
     },
     "execution_count": 165,
     "metadata": {},
     "output_type": "execute_result"
    }
   ],
   "source": [
    "result.shape"
   ]
  },
  {
   "cell_type": "code",
   "execution_count": null,
   "id": "120a20ab",
   "metadata": {},
   "outputs": [],
   "source": []
  }
 ],
 "metadata": {
  "kernelspec": {
   "display_name": "Python 3",
   "language": "python",
   "name": "python3"
  },
  "language_info": {
   "codemirror_mode": {
    "name": "ipython",
    "version": 3
   },
   "file_extension": ".py",
   "mimetype": "text/x-python",
   "name": "python",
   "nbconvert_exporter": "python",
   "pygments_lexer": "ipython3",
   "version": "3.9.1"
  }
 },
 "nbformat": 4,
 "nbformat_minor": 5
}
