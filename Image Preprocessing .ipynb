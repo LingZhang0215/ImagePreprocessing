{
 "cells": [
  {
   "cell_type": "code",
   "execution_count": 2,
   "id": "3c55b37f",
   "metadata": {},
   "outputs": [],
   "source": [
    "import numpy as np"
   ]
  },
  {
   "cell_type": "code",
   "execution_count": 3,
   "id": "497e0344",
   "metadata": {},
   "outputs": [],
   "source": [
    "import cv2"
   ]
  },
  {
   "cell_type": "code",
   "execution_count": 4,
   "id": "64418f02",
   "metadata": {},
   "outputs": [],
   "source": [
    "def getVarianceMean(scr, winSize):\n",
    "    if scr is None or winSize is None:\n",
    "        print(\"The input parameters of getVarianceMean Function error\")\n",
    "        return -1\n",
    "    \n",
    "    if winSize % 2 == 0:\n",
    "        print(\"The window size should be singular\")\n",
    "        return -1 \n",
    "    \n",
    "    copyBorder_map=cv2.copyMakeBorder(scr,winSize//2,winSize//2,winSize//2,winSize//2,cv2.BORDER_REPLICATE)\n",
    "    shape=np.shape(scr)\n",
    "    \n",
    "    local_mean=np.zeros_like(scr)\n",
    "    local_std=np.zeros_like(scr)\n",
    "    \n",
    "    for i in range(shape[0]):\n",
    "        for j in range(shape[1]):   \n",
    "            temp=copyBorder_map[i:i+winSize,j:j+winSize]\n",
    "            local_mean[i,j],local_std[i,j]=cv2.meanStdDev(temp)\n",
    "            if local_std[i,j]<=0:\n",
    "                local_std[i,j]=1e-8\n",
    "            \n",
    "    return local_mean,local_std\n",
    "def adaptContrastEnhancement(scr, winSize, maxCg):\n",
    "    if scr is None or winSize is None or maxCg is None:\n",
    "        print(\"The input parameters of ACE Function error\")\n",
    "        return -1\n",
    "    \n",
    "    YUV_img=cv2.cvtColor(scr,cv2.COLOR_BGR2YUV)    ##转换通道\n",
    "    Y_Channel = YUV_img[:,:,0]\n",
    "    shape=np.shape(Y_Channel)\n",
    "    \n",
    "    meansGlobal=cv2.mean(Y_Channel)[0]\n",
    "    localMean_map, localStd_map=getVarianceMean(Y_Channel,winSize)\n",
    "\n",
    "    for i in range(shape[0]):\n",
    "        for j in range(shape[1]):\n",
    "            \n",
    "            cg = 0.2*meansGlobal/ localStd_map[i,j];\n",
    "            if cg >maxCg:\n",
    "                cg=maxCg\n",
    "            elif cg<1:\n",
    "                cg=1\n",
    "            \n",
    "            temp = Y_Channel[i,j].astype(float)\n",
    "            temp=max(0,min(localMean_map[i,j]+cg*(temp-localMean_map[i,j]),255))\n",
    "            \n",
    "#            Y_Channel[i,j]=max(0,min(localMean_map[i,j]+cg*(Y_Channel[i,j]-localMean_map[i,j]),255))\n",
    "            Y_Channel[i,j]=temp\n",
    "                \n",
    "            \n",
    "    YUV_img[:,:,0]=Y_Channel\n",
    "    \n",
    "    dst=cv2.cvtColor(YUV_img,cv2.COLOR_YUV2BGR)\n",
    "    \n",
    "    return dst"
   ]
  },
  {
   "cell_type": "code",
   "execution_count": 5,
   "id": "254a0f2e",
   "metadata": {},
   "outputs": [],
   "source": [
    "img = cv2.imread('1.jpg')"
   ]
  },
  {
   "cell_type": "code",
   "execution_count": 6,
   "id": "20b0663e",
   "metadata": {},
   "outputs": [
    {
     "data": {
      "text/plain": [
       "(9818, 6849, 3)"
      ]
     },
     "execution_count": 6,
     "metadata": {},
     "output_type": "execute_result"
    }
   ],
   "source": [
    "np.shape(img)"
   ]
  },
  {
   "cell_type": "code",
   "execution_count": 7,
   "id": "11e8d90e",
   "metadata": {},
   "outputs": [
    {
     "name": "stderr",
     "output_type": "stream",
     "text": [
      "<ipython-input-4-aa895a58cbda>:39: RuntimeWarning: divide by zero encountered in true_divide\n",
      "  cg = 0.2*meansGlobal/ localStd_map[i,j];\n"
     ]
    }
   ],
   "source": [
    "dstimg = adaptContrastEnhancement(img,15,10)"
   ]
  },
  {
   "cell_type": "code",
   "execution_count": 8,
   "id": "395551ce",
   "metadata": {},
   "outputs": [
    {
     "data": {
      "text/plain": [
       "True"
      ]
     },
     "execution_count": 8,
     "metadata": {},
     "output_type": "execute_result"
    }
   ],
   "source": [
    "cv2.imwrite('out.jpg',dstimg)"
   ]
  },
  {
   "cell_type": "code",
   "execution_count": 9,
   "id": "8cb61f81",
   "metadata": {},
   "outputs": [
    {
     "data": {
      "text/plain": [
       "(9818, 6849, 3)"
      ]
     },
     "execution_count": 9,
     "metadata": {},
     "output_type": "execute_result"
    }
   ],
   "source": [
    "np.shape(dstimg)"
   ]
  },
  {
   "cell_type": "code",
   "execution_count": 10,
   "id": "56bf7728",
   "metadata": {},
   "outputs": [],
   "source": [
    "diff = cv2.subtract(img, dstimg)"
   ]
  },
  {
   "cell_type": "code",
   "execution_count": 11,
   "id": "991f7692",
   "metadata": {},
   "outputs": [],
   "source": [
    "out = cv2.fastNlMeansDenoisingColored(dstimg, None, 10, 10, 7)"
   ]
  },
  {
   "cell_type": "code",
   "execution_count": 12,
   "id": "83e0f1b8",
   "metadata": {},
   "outputs": [
    {
     "data": {
      "text/plain": [
       "True"
      ]
     },
     "execution_count": 12,
     "metadata": {},
     "output_type": "execute_result"
    }
   ],
   "source": [
    "cv2.imwrite('out2.jpg', out)"
   ]
  },
  {
   "cell_type": "code",
   "execution_count": 13,
   "id": "23706e27",
   "metadata": {},
   "outputs": [],
   "source": [
    "diff = cv2.subtract(out, dstimg)"
   ]
  },
  {
   "cell_type": "code",
   "execution_count": 19,
   "id": "ddba12e5",
   "metadata": {},
   "outputs": [],
   "source": [
    "new_img = cv2.cvtColor(img, cv2.COLOR_BGR2LAB)"
   ]
  },
  {
   "cell_type": "code",
   "execution_count": 16,
   "id": "866ac8e0",
   "metadata": {},
   "outputs": [],
   "source": [
    "clahe = cv2.createCLAHE(clipLimit=2.0, tileGridSize=(8,8))"
   ]
  },
  {
   "cell_type": "code",
   "execution_count": 20,
   "id": "b1817047",
   "metadata": {},
   "outputs": [],
   "source": [
    "img_planes = cv2.split(new_img)"
   ]
  },
  {
   "cell_type": "code",
   "execution_count": 21,
   "id": "2e564fcb",
   "metadata": {},
   "outputs": [],
   "source": [
    "img_planes[0] = clahe.apply(img_planes[0])"
   ]
  },
  {
   "cell_type": "code",
   "execution_count": 23,
   "id": "970d7f48",
   "metadata": {},
   "outputs": [],
   "source": [
    "out3 = cv2.merge(img_planes)"
   ]
  },
  {
   "cell_type": "code",
   "execution_count": 24,
   "id": "e63c616c",
   "metadata": {},
   "outputs": [],
   "source": [
    "out3 = cv2.cvtColor(out3, cv2.COLOR_LAB2BGR)"
   ]
  },
  {
   "cell_type": "code",
   "execution_count": 26,
   "id": "ab1b0cbd",
   "metadata": {},
   "outputs": [
    {
     "data": {
      "text/plain": [
       "True"
      ]
     },
     "execution_count": 26,
     "metadata": {},
     "output_type": "execute_result"
    }
   ],
   "source": [
    "cv2.imwrite('CLAHE.jpg',out3)"
   ]
  },
  {
   "cell_type": "code",
   "execution_count": 30,
   "id": "e5fd1170",
   "metadata": {},
   "outputs": [],
   "source": [
    "HE_src = cv2.cvtColor(img, cv2.COLOR_BGR2GRAY)"
   ]
  },
  {
   "cell_type": "code",
   "execution_count": 31,
   "id": "9399032a",
   "metadata": {},
   "outputs": [],
   "source": [
    "HE = cv2.equalizeHist(HE_src)"
   ]
  },
  {
   "cell_type": "code",
   "execution_count": 33,
   "id": "d69133e0",
   "metadata": {},
   "outputs": [
    {
     "data": {
      "text/plain": [
       "True"
      ]
     },
     "execution_count": 33,
     "metadata": {},
     "output_type": "execute_result"
    }
   ],
   "source": [
    "cv2.imwrite('HE.jpg',HE)"
   ]
  },
  {
   "cell_type": "code",
   "execution_count": 36,
   "id": "5c5e47d6",
   "metadata": {},
   "outputs": [
    {
     "data": {
      "text/plain": [
       "(1, 9818, 6849)"
      ]
     },
     "execution_count": 36,
     "metadata": {},
     "output_type": "execute_result"
    }
   ],
   "source": [
    "np.shape(cv2.split(HE))"
   ]
  },
  {
   "cell_type": "code",
   "execution_count": 37,
   "id": "4f907e89",
   "metadata": {},
   "outputs": [
    {
     "data": {
      "text/plain": [
       "(9818, 6849)"
      ]
     },
     "execution_count": 37,
     "metadata": {},
     "output_type": "execute_result"
    }
   ],
   "source": [
    "np.shape(HE_src)"
   ]
  },
  {
   "cell_type": "code",
   "execution_count": 38,
   "id": "e6fe19f8",
   "metadata": {},
   "outputs": [
    {
     "data": {
      "text/plain": [
       "(9818, 6849, 3)"
      ]
     },
     "execution_count": 38,
     "metadata": {},
     "output_type": "execute_result"
    }
   ],
   "source": [
    "np.shape(img)"
   ]
  },
  {
   "cell_type": "code",
   "execution_count": 46,
   "id": "2c8aa4fe",
   "metadata": {},
   "outputs": [],
   "source": [
    "DeNoiseCLAHE = cv2.fastNlMeansDenoisingColored(out3,None, 10,10,7,21)"
   ]
  },
  {
   "cell_type": "code",
   "execution_count": 47,
   "id": "e01e3ea0",
   "metadata": {},
   "outputs": [
    {
     "data": {
      "text/plain": [
       "True"
      ]
     },
     "execution_count": 47,
     "metadata": {},
     "output_type": "execute_result"
    }
   ],
   "source": [
    "cv2.imwrite('DeNoiseCLAHE-h-10.jpg',DeNoiseCLAHE)"
   ]
  },
  {
   "cell_type": "code",
   "execution_count": 1,
   "id": "93a513bb",
   "metadata": {},
   "outputs": [],
   "source": [
    "def adjust_gamma(image, gamma):\n",
    "    # build a lookup table mapping the pixel values [0, 255] to\n",
    "    # their adjusted gamma values\n",
    "    invGamma = 1.0 / gamma\n",
    "    table = np.array([((i / 255.0) ** invGamma) * 255\n",
    "        for i in np.arange(0, 256)]).astype(\"uint8\")\n",
    " \n",
    "    # apply gamma correction using the lookup table\n",
    "    return cv2.LUT(image, table)"
   ]
  },
  {
   "cell_type": "code",
   "execution_count": 2,
   "id": "9bcebb41",
   "metadata": {},
   "outputs": [],
   "source": [
    "def image_enhance(img):\n",
    "\n",
    "    # CLAHE (Contrast Limited Adaptive Histogram Equalization)\n",
    "    clahe = cv2.createCLAHE(clipLimit=3., tileGridSize=(8,8))\n",
    "\n",
    "    # convert from BGR to LAB color space\n",
    "    lab = cv2.cvtColor(img, cv2.COLOR_BGR2LAB)  \n",
    "    \n",
    "    # split on 3 different channels\n",
    "    l, a, b = cv2.split(lab)  \n",
    "\n",
    "    # apply CLAHE to the L-channel\n",
    "    l2 = clahe.apply(l)  \n",
    "\n",
    "    # merge channels\n",
    "    lab = cv2.merge((l2,a,b))  \n",
    "    \n",
    "    # convert from LAB to BGR\n",
    "    img_enhance = cv2.cvtColor(lab, cv2.COLOR_LAB2BGR)  \n",
    "    \n",
    "    return img_enhance"
   ]
  },
  {
   "cell_type": "code",
   "execution_count": 3,
   "id": "0f54378e",
   "metadata": {},
   "outputs": [],
   "source": [
    "def gamma_correction(image):\n",
    "    \n",
    "    gamma = 1.5\n",
    "    \n",
    "    # apply gamma correction and show the images\n",
    "    gamma = gamma if gamma > 0 else 0.1\n",
    "    \n",
    "    adjusted = adjust_gamma(image, gamma=gamma)\n",
    "    \n",
    "    enhanced_image = image_enhance(adjusted)\n",
    "\n",
    "    # save result as images for reference\n",
    "    cv2.imwrite('test.jpg',enhanced_image)"
   ]
  },
  {
   "cell_type": "code",
   "execution_count": 5,
   "id": "cdd1fabb",
   "metadata": {},
   "outputs": [],
   "source": [
    "import cv2\n",
    "import numpy as np\n",
    "img = cv2.imread('1.jpg')"
   ]
  },
  {
   "cell_type": "code",
   "execution_count": 6,
   "id": "9dbb6f5c",
   "metadata": {},
   "outputs": [],
   "source": [
    "gamma_correction(img)"
   ]
  },
  {
   "cell_type": "code",
   "execution_count": 7,
   "id": "0b3028a9",
   "metadata": {},
   "outputs": [
    {
     "name": "stderr",
     "output_type": "stream",
     "text": [
      "/Users/ling/miniconda3/lib/python3.9/site-packages/skimage/viewer/utils/__init__.py:1: UserWarning: Recommended matplotlib backend is `Agg` for full skimage.viewer functionality.\n",
      "  from .core import *\n"
     ]
    }
   ],
   "source": [
    "import sys\n",
    "import skimage.io\n",
    "import skimage.viewer\n",
    "from matplotlib import pyplot as plt"
   ]
  },
  {
   "cell_type": "code",
   "execution_count": 8,
   "id": "0f1be857",
   "metadata": {},
   "outputs": [],
   "source": [
    "image = skimage.io.imread('1.jpg')"
   ]
  },
  {
   "cell_type": "code",
   "execution_count": 10,
   "id": "3c8acdba",
   "metadata": {},
   "outputs": [
    {
     "name": "stderr",
     "output_type": "stream",
     "text": [
      "<ipython-input-10-64e09245fe33>:1: FutureWarning: `viewer` is deprecated and will be removed in 0.20. For alternatives, refer to https://scikit-image.org/docs/stable/user_guide/visualization.html\n",
      "  viewer = skimage.viewer.ImageViewer(image)\n"
     ]
    }
   ],
   "source": [
    "viewer = skimage.viewer.ImageViewer(image)"
   ]
  },
  {
   "cell_type": "code",
   "execution_count": 11,
   "id": "49acb619",
   "metadata": {},
   "outputs": [
    {
     "data": {
      "text/plain": [
       "[]"
      ]
     },
     "execution_count": 11,
     "metadata": {},
     "output_type": "execute_result"
    }
   ],
   "source": [
    "viewer.show()"
   ]
  },
  {
   "cell_type": "code",
   "execution_count": 12,
   "id": "66a21231",
   "metadata": {},
   "outputs": [
    {
     "data": {
      "image/png": "[encoded data removed]",
      "text/plain": [
       "<Figure size 432x288 with 1 Axes>"
      ]
     },
     "metadata": {
      "needs_background": "light"
     },
     "output_type": "display_data"
    }
   ],
   "source": [
    "colors = (\"r\", \"g\", \"b\")\n",
    "channel_ids = (0, 1, 2)\n",
    "\n",
    "# create the histogram plot, with three lines, one for\n",
    "# each color\n",
    "plt.xlim([0, 256])\n",
    "for channel_id, c in zip(channel_ids, colors):\n",
    "    histogram, bin_edges = np.histogram(\n",
    "        image[:, :, channel_id], bins=256, range=(0, 256)\n",
    "    )\n",
    "    plt.plot(bin_edges[0:-1], histogram, color=c)\n",
    "\n",
    "plt.xlabel(\"Color value\")\n",
    "plt.ylabel(\"Pixels\")\n",
    "\n",
    "plt.show()"
   ]
  },
  {
   "cell_type": "code",
   "execution_count": 20,
   "id": "0f0d16b2",
   "metadata": {},
   "outputs": [],
   "source": [
    "img = cv2.imread('1.jpg')"
   ]
  },
  {
   "cell_type": "code",
   "execution_count": 21,
   "id": "2976e377",
   "metadata": {},
   "outputs": [
    {
     "data": {
      "image/png": "[encoded data removed]",
      "text/plain": [
       "<Figure size 432x288 with 1 Axes>"
      ]
     },
     "metadata": {
      "needs_background": "light"
     },
     "output_type": "display_data"
    }
   ],
   "source": [
    "hist,bins = np.histogram(img.flatten(),256,[0,256])\n",
    "\n",
    "cdf = hist.cumsum()\n",
    "cdf_normalized = cdf * hist.max()/ cdf.max()\n",
    "\n",
    "plt.plot(cdf_normalized, color = 'b')\n",
    "plt.hist(img.flatten(),256,[0,256], color = 'r')\n",
    "plt.xlim([0,256])\n",
    "plt.legend(('cdf','histogram'), loc = 'upper left')\n",
    "plt.show()"
   ]
  },
  {
   "cell_type": "code",
   "execution_count": 17,
   "id": "de4b9119",
   "metadata": {},
   "outputs": [
    {
     "data": {
      "image/png": "[encoded data removed]",
      "text/plain": [
       "<Figure size 432x288 with 1 Axes>"
      ]
     },
     "metadata": {
      "needs_background": "light"
     },
     "output_type": "display_data"
    }
   ],
   "source": [
    "hist,bins = np.histogram(img.flatten(),256,[0,256])\n",
    "\n",
    "cdf = hist.cumsum()\n",
    "cdf_normalized = cdf * hist.max()/ cdf.max()\n",
    "\n",
    "plt.plot(cdf_normalized, color = 'b')\n",
    "plt.hist(img.flatten(),256,[0,256], color = 'r')\n",
    "plt.xlim([0,256])\n",
    "plt.legend(('cdf','histogram'), loc = 'upper left')\n",
    "plt.show()"
   ]
  },
  {
   "cell_type": "code",
   "execution_count": 22,
   "id": "aa7e4440",
   "metadata": {},
   "outputs": [],
   "source": [
    "img = cv2.imread('CLAHE.jpg')"
   ]
  },
  {
   "cell_type": "code",
   "execution_count": 18,
   "id": "123cf1f3",
   "metadata": {},
   "outputs": [],
   "source": [
    "img = cv2.imread('test.jpg')"
   ]
  },
  {
   "cell_type": "code",
   "execution_count": 19,
   "id": "06fe10b0",
   "metadata": {},
   "outputs": [
    {
     "data": {
      "image/png": "[encoded data removed]",
      "text/plain": [
       "<Figure size 432x288 with 1 Axes>"
      ]
     },
     "metadata": {
      "needs_background": "light"
     },
     "output_type": "display_data"
    }
   ],
   "source": [
    "hist,bins = np.histogram(img.flatten(),256,[0,256])\n",
    "\n",
    "cdf = hist.cumsum()\n",
    "cdf_normalized = cdf * hist.max()/ cdf.max()\n",
    "\n",
    "plt.plot(cdf_normalized, color = 'b')\n",
    "plt.hist(img.flatten(),256,[0,256], color = 'r')\n",
    "plt.xlim([0,256])\n",
    "plt.legend(('cdf','histogram'), loc = 'upper left')\n",
    "plt.show()"
   ]
  },
  {
   "cell_type": "code",
   "execution_count": 1,
   "id": "3802dbdb",
   "metadata": {},
   "outputs": [],
   "source": [
    "import numpy as np\n",
    "import cv2"
   ]
  },
  {
   "cell_type": "code",
   "execution_count": 28,
   "id": "e241e110",
   "metadata": {},
   "outputs": [],
   "source": [
    "img1 = cv2.imread('1.jpg')"
   ]
  },
  {
   "cell_type": "code",
   "execution_count": 29,
   "id": "8f6bd556",
   "metadata": {},
   "outputs": [],
   "source": [
    "img1 = cv2.cvtColor(img1,cv2.COLOR_RGB2GRAY)"
   ]
  },
  {
   "cell_type": "code",
   "execution_count": 5,
   "id": "063aed71",
   "metadata": {},
   "outputs": [],
   "source": [
    "img2 = cv2.imread('CLAHE.jpg')"
   ]
  },
  {
   "cell_type": "code",
   "execution_count": 6,
   "id": "6a2b58b2",
   "metadata": {},
   "outputs": [],
   "source": [
    "img2 = cv2.cvtColor(img2,cv2.COLOR_RGB2GRAY)"
   ]
  },
  {
   "cell_type": "code",
   "execution_count": 7,
   "id": "e74e7a04",
   "metadata": {},
   "outputs": [],
   "source": [
    "img3 = cv2.imread('out2.jpg')"
   ]
  },
  {
   "cell_type": "code",
   "execution_count": 8,
   "id": "9da1a24a",
   "metadata": {},
   "outputs": [],
   "source": [
    "img3 = cv2.cvtColor(img3,cv2.COLOR_RGB2GRAY)"
   ]
  },
  {
   "cell_type": "code",
   "execution_count": 9,
   "id": "c1810d6b",
   "metadata": {},
   "outputs": [
    {
     "data": {
      "text/plain": [
       "True"
      ]
     },
     "execution_count": 9,
     "metadata": {},
     "output_type": "execute_result"
    }
   ],
   "source": [
    "cv2.imwrite('原图灰.jpg',img1)"
   ]
  },
  {
   "cell_type": "code",
   "execution_count": 10,
   "id": "6880e9a0",
   "metadata": {},
   "outputs": [
    {
     "data": {
      "text/plain": [
       "True"
      ]
     },
     "execution_count": 10,
     "metadata": {},
     "output_type": "execute_result"
    }
   ],
   "source": [
    "cv2.imwrite('CLAHE灰.jpg',img2)"
   ]
  },
  {
   "cell_type": "code",
   "execution_count": 11,
   "id": "30277ef0",
   "metadata": {},
   "outputs": [
    {
     "data": {
      "text/plain": [
       "True"
      ]
     },
     "execution_count": 11,
     "metadata": {},
     "output_type": "execute_result"
    }
   ],
   "source": [
    "cv2.imwrite('out2灰.jpg',img3)"
   ]
  },
  {
   "cell_type": "code",
   "execution_count": 12,
   "id": "6c59cc48",
   "metadata": {},
   "outputs": [],
   "source": [
    "img1 = cv2.imread('1.jpg')"
   ]
  },
  {
   "cell_type": "code",
   "execution_count": 13,
   "id": "16c637f2",
   "metadata": {},
   "outputs": [],
   "source": [
    "temp = cv2.split(img1)"
   ]
  },
  {
   "cell_type": "code",
   "execution_count": 15,
   "id": "0bf214b7",
   "metadata": {},
   "outputs": [
    {
     "data": {
      "text/plain": [
       "True"
      ]
     },
     "execution_count": 15,
     "metadata": {},
     "output_type": "execute_result"
    }
   ],
   "source": [
    "cv2.imwrite('原图R.jpg',temp[2])"
   ]
  },
  {
   "cell_type": "code",
   "execution_count": 25,
   "id": "64775e97",
   "metadata": {},
   "outputs": [],
   "source": [
    "img1 = cv2.threshold(img1,127,255,cv2.THRESH_BINARY)"
   ]
  },
  {
   "cell_type": "code",
   "execution_count": 26,
   "id": "04b030b3",
   "metadata": {},
   "outputs": [
    {
     "ename": "TypeError",
     "evalue": "Expected Ptr<cv::UMat> for argument 'img'",
     "output_type": "error",
     "traceback": [
      "\u001b[0;31m---------------------------------------------------------------------------\u001b[0m",
      "\u001b[0;31mTypeError\u001b[0m                                 Traceback (most recent call last)",
      "\u001b[0;32m<ipython-input-26-0d0892c02a3a>\u001b[0m in \u001b[0;36m<module>\u001b[0;34m\u001b[0m\n\u001b[0;32m----> 1\u001b[0;31m \u001b[0mcv2\u001b[0m\u001b[0;34m.\u001b[0m\u001b[0mimwrite\u001b[0m\u001b[0;34m(\u001b[0m\u001b[0;34m'原图二值.jpg'\u001b[0m\u001b[0;34m,\u001b[0m\u001b[0mimg1\u001b[0m\u001b[0;34m)\u001b[0m\u001b[0;34m\u001b[0m\u001b[0;34m\u001b[0m\u001b[0m\n\u001b[0m",
      "\u001b[0;31mTypeError\u001b[0m: Expected Ptr<cv::UMat> for argument 'img'"
     ]
    }
   ],
   "source": [
    "cv2.imwrite('原图二值.jpg',img1)"
   ]
  },
  {
   "cell_type": "code",
   "execution_count": 22,
   "id": "ed721158",
   "metadata": {},
   "outputs": [
    {
     "ename": "TypeError",
     "evalue": "imshow() missing required argument 'mat' (pos 2)",
     "output_type": "error",
     "traceback": [
      "\u001b[0;31m---------------------------------------------------------------------------\u001b[0m",
      "\u001b[0;31mTypeError\u001b[0m                                 Traceback (most recent call last)",
      "\u001b[0;32m<ipython-input-22-4b3678e4b914>\u001b[0m in \u001b[0;36m<module>\u001b[0;34m\u001b[0m\n\u001b[0;32m----> 1\u001b[0;31m \u001b[0mcv2\u001b[0m\u001b[0;34m.\u001b[0m\u001b[0mimshow\u001b[0m\u001b[0;34m(\u001b[0m\u001b[0mimg1\u001b[0m\u001b[0;34m)\u001b[0m\u001b[0;34m\u001b[0m\u001b[0;34m\u001b[0m\u001b[0m\n\u001b[0m",
      "\u001b[0;31mTypeError\u001b[0m: imshow() missing required argument 'mat' (pos 2)"
     ]
    }
   ],
   "source": [
    "cv2.imshow(img1)"
   ]
  },
  {
   "cell_type": "code",
   "execution_count": 30,
   "id": "a02b6220",
   "metadata": {},
   "outputs": [
    {
     "data": {
      "text/plain": [
       "(127.0,\n",
       " array([[255, 255, 255, ..., 255, 255, 255],\n",
       "        [255, 255, 255, ..., 255, 255, 255],\n",
       "        [255, 255, 255, ..., 255, 255, 255],\n",
       "        ...,\n",
       "        [255, 255, 255, ..., 255, 255, 255],\n",
       "        [255, 255, 255, ..., 255, 255, 255],\n",
       "        [255, 255, 255, ..., 255, 255, 255]], dtype=uint8))"
      ]
     },
     "execution_count": 30,
     "metadata": {},
     "output_type": "execute_result"
    }
   ],
   "source": [
    "cv2.threshold(img1,127,255,cv2.THRESH_BINARY)"
   ]
  },
  {
   "cell_type": "code",
   "execution_count": 54,
   "id": "6a8037c6",
   "metadata": {},
   "outputs": [],
   "source": [
    "img1 = cv2.imread('1.jpg')\n",
    "img1 = cv2.cvtColor(img1,cv2.COLOR_RGB2GRAY)\n",
    "out = cv2.adaptiveThreshold(img1,255,cv2.ADAPTIVE_THRESH_MEAN_C,cv2.THRESH_BINARY,11,2)"
   ]
  },
  {
   "cell_type": "code",
   "execution_count": 55,
   "id": "7e4e93bf",
   "metadata": {},
   "outputs": [
    {
     "data": {
      "text/plain": [
       "True"
      ]
     },
     "execution_count": 55,
     "metadata": {},
     "output_type": "execute_result"
    }
   ],
   "source": [
    "cv2.imwrite('img.jpg',out)"
   ]
  },
  {
   "cell_type": "code",
   "execution_count": 58,
   "id": "c0952921",
   "metadata": {},
   "outputs": [
    {
     "data": {
      "text/plain": [
       "True"
      ]
     },
     "execution_count": 58,
     "metadata": {},
     "output_type": "execute_result"
    }
   ],
   "source": [
    "img1 = cv2.imread('out.jpg')\n",
    "img1 = cv2.cvtColor(img1,cv2.COLOR_RGB2GRAY)\n",
    "out = cv2.adaptiveThreshold(img1,255,cv2.ADAPTIVE_THRESH_MEAN_C,cv2.THRESH_BINARY,11,2)\n",
    "cv2.imwrite('out-.jpg',out)"
   ]
  },
  {
   "cell_type": "code",
   "execution_count": 57,
   "id": "0ad1e8b6",
   "metadata": {},
   "outputs": [
    {
     "data": {
      "text/plain": [
       "True"
      ]
     },
     "execution_count": 57,
     "metadata": {},
     "output_type": "execute_result"
    }
   ],
   "source": [
    "img1 = cv2.imread('CLAHE.jpg')\n",
    "img1 = cv2.cvtColor(img1,cv2.COLOR_RGB2GRAY)\n",
    "out = cv2.adaptiveThreshold(img1,255,cv2.ADAPTIVE_THRESH_MEAN_C,cv2.THRESH_BINARY,11,2)\n",
    "cv2.imwrite('CLAHE-.jpg',out)"
   ]
  },
  {
   "cell_type": "markdown",
   "id": "88ed59d8",
   "metadata": {},
   "source": [
    "# Global"
   ]
  },
  {
   "cell_type": "markdown",
   "id": "1708b4f5",
   "metadata": {},
   "source": [
    "## 0. Origin Image Histogram"
   ]
  },
  {
   "cell_type": "code",
   "execution_count": 9,
   "id": "7065fa54",
   "metadata": {},
   "outputs": [
    {
     "data": {
      "image/png": "[encoded data removed]",
      "text/plain": [
       "<Figure size 432x288 with 1 Axes>"
      ]
     },
     "metadata": {
      "needs_background": "light"
     },
     "output_type": "display_data"
    }
   ],
   "source": [
    "import cv2\n",
    "import numpy as np\n",
    "import sys\n",
    "import skimage.io\n",
    "import skimage.viewer\n",
    "from matplotlib import pyplot as plt\n",
    "img = cv2.imread('1.jpg')\n",
    "hist,bins = np.histogram(img.flatten(),256,[0,256])\n",
    "\n",
    "cdf = hist.cumsum()\n",
    "cdf_normalized = cdf * hist.max()/ cdf.max()\n",
    "\n",
    "plt.plot(cdf_normalized, color = 'b')\n",
    "plt.hist(img.flatten(),256,[0,256], color = 'r')\n",
    "plt.xlim([0,256])\n",
    "plt.legend(('cdf','histogram'), loc = 'upper left')\n",
    "plt.show()"
   ]
  },
  {
   "cell_type": "markdown",
   "id": "274b1411",
   "metadata": {},
   "source": [
    "## 1. BBHE"
   ]
  },
  {
   "cell_type": "code",
   "execution_count": 2,
   "id": "385d0a4b",
   "metadata": {},
   "outputs": [],
   "source": [
    "from image_enhancement import image_enhancement\n",
    "import cv2\n",
    "import numpy as np\n",
    "img = cv2.imread('1.jpg')"
   ]
  },
  {
   "cell_type": "code",
   "execution_count": 3,
   "id": "81174d99",
   "metadata": {},
   "outputs": [],
   "source": [
    "ie = image_enhancement.IE(img, color_space = 'HSV')"
   ]
  },
  {
   "cell_type": "code",
   "execution_count": 5,
   "id": "ad1397b7",
   "metadata": {},
   "outputs": [],
   "source": [
    "result = ie.BBHE()"
   ]
  },
  {
   "cell_type": "code",
   "execution_count": 6,
   "id": "dfdb8470",
   "metadata": {},
   "outputs": [
    {
     "data": {
      "text/plain": [
       "True"
      ]
     },
     "execution_count": 6,
     "metadata": {},
     "output_type": "execute_result"
    }
   ],
   "source": [
    "cv2.imwrite('BBHE.jpg',result)"
   ]
  },
  {
   "cell_type": "code",
   "execution_count": 8,
   "id": "187af6ff",
   "metadata": {},
   "outputs": [
    {
     "name": "stderr",
     "output_type": "stream",
     "text": [
      "/Users/ling/miniconda3/lib/python3.9/site-packages/skimage/viewer/utils/__init__.py:1: UserWarning: Recommended matplotlib backend is `Agg` for full skimage.viewer functionality.\n",
      "  from .core import *\n"
     ]
    },
    {
     "data": {
      "image/png": "[encoded data removed]",
      "text/plain": [
       "<Figure size 432x288 with 1 Axes>"
      ]
     },
     "metadata": {
      "needs_background": "light"
     },
     "output_type": "display_data"
    }
   ],
   "source": [
    "import sys\n",
    "import skimage.io\n",
    "import skimage.viewer\n",
    "from matplotlib import pyplot as plt\n",
    "hist,bins = np.histogram(result.flatten(),256,[0,256])\n",
    "\n",
    "cdf = hist.cumsum()\n",
    "cdf_normalized = cdf * hist.max()/ cdf.max()\n",
    "\n",
    "plt.plot(cdf_normalized, color = 'b')\n",
    "plt.hist(img.flatten(),256,[0,256], color = 'r')\n",
    "plt.xlim([0,256])\n",
    "plt.legend(('cdf','histogram'), loc = 'upper left')\n",
    "plt.show()"
   ]
  },
  {
   "cell_type": "code",
   "execution_count": 10,
   "id": "e762fa08",
   "metadata": {},
   "outputs": [],
   "source": [
    "diff = cv2.subtract(img,result)"
   ]
  },
  {
   "cell_type": "code",
   "execution_count": 11,
   "id": "4b19c176",
   "metadata": {},
   "outputs": [
    {
     "data": {
      "text/plain": [
       "array([[[0, 0, 0],\n",
       "        [0, 0, 0],\n",
       "        [0, 0, 0],\n",
       "        ...,\n",
       "        [0, 0, 0],\n",
       "        [0, 0, 0],\n",
       "        [0, 0, 0]],\n",
       "\n",
       "       [[0, 0, 0],\n",
       "        [0, 0, 0],\n",
       "        [0, 0, 0],\n",
       "        ...,\n",
       "        [0, 0, 0],\n",
       "        [0, 0, 0],\n",
       "        [0, 0, 0]],\n",
       "\n",
       "       [[0, 0, 0],\n",
       "        [0, 0, 0],\n",
       "        [0, 0, 0],\n",
       "        ...,\n",
       "        [0, 0, 0],\n",
       "        [0, 0, 0],\n",
       "        [0, 0, 0]],\n",
       "\n",
       "       ...,\n",
       "\n",
       "       [[0, 0, 0],\n",
       "        [0, 0, 0],\n",
       "        [0, 0, 0],\n",
       "        ...,\n",
       "        [0, 0, 0],\n",
       "        [0, 0, 0],\n",
       "        [0, 0, 0]],\n",
       "\n",
       "       [[0, 0, 0],\n",
       "        [0, 0, 0],\n",
       "        [0, 0, 0],\n",
       "        ...,\n",
       "        [0, 0, 0],\n",
       "        [0, 0, 0],\n",
       "        [0, 0, 0]],\n",
       "\n",
       "       [[0, 0, 0],\n",
       "        [0, 0, 0],\n",
       "        [0, 0, 0],\n",
       "        ...,\n",
       "        [0, 0, 0],\n",
       "        [0, 0, 0],\n",
       "        [0, 0, 0]]], dtype=uint8)"
      ]
     },
     "execution_count": 11,
     "metadata": {},
     "output_type": "execute_result"
    }
   ],
   "source": [
    "diff"
   ]
  },
  {
   "cell_type": "code",
   "execution_count": null,
   "id": "82d2eb4d",
   "metadata": {},
   "outputs": [],
   "source": []
  }
 ],
 "metadata": {
  "kernelspec": {
   "display_name": "Python 3",
   "language": "python",
   "name": "python3"
  },
  "language_info": {
   "codemirror_mode": {
    "name": "ipython",
    "version": 3
   },
   "file_extension": ".py",
   "mimetype": "text/x-python",
   "name": "python",
   "nbconvert_exporter": "python",
   "pygments_lexer": "ipython3",
   "version": "3.9.1"
  }
 },
 "nbformat": 4,
 "nbformat_minor": 5
}
